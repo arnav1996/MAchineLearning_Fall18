{
 "cells": [
  {
   "cell_type": "markdown",
   "metadata": {},
   "source": [
    "# HW04 Machine Learning Fall 2018 | Part II - Programming | amc1354 & ads798\n",
    "## Problem 5\n",
    "### (a) List the 5 tokens that occur most frequently in the training set."
   ]
  },
  {
   "cell_type": "code",
   "execution_count": 1,
   "metadata": {},
   "outputs": [
    {
     "name": "stdout",
     "output_type": "stream",
     "text": [
      "Top 5 most frequent tokens:\n",
      " [('.', 1426), (',', 1349), ('the', 1255), ('a', 938), ('and', 919)]\n"
     ]
    }
   ],
   "source": [
    "import pandas as pd\n",
    "from collections import Counter\n",
    "\n",
    "with open(\"reviewstrain.txt\") as f:\n",
    "    traindata=[line.split() for line in f]\n",
    "\n",
    "dataset = pd.DataFrame(data = {'review': [' '.join(traindata[0][1:])], 'label': [int(traindata[0][0])]})\n",
    "for item in traindata[1:]:\n",
    "    dataset = dataset.append(pd.DataFrame([[' '.join(item[1:]), int(item[0])]], columns=['review','label']), ignore_index=True)\n",
    "\n",
    "token_count = Counter(' '.join(dataset['review']).split()).most_common()\n",
    "print(\"Top 5 most frequent tokens:\\n\", token_count[:5])"
   ]
  },
  {
   "cell_type": "markdown",
   "metadata": {},
   "source": [
    "Obviously, the most frequent tokens are English stopwords and punctuation. One could create a more useful dataset by removing punctuation, English stopwords, and stemming words so we don't have attributes with repeated meaning. E.g., \"love\", \"loved\", \"loving\" would form different attributes. After stemming, they will belong to the same attribute \"lov\"."
   ]
  },
  {
   "cell_type": "markdown",
   "metadata": {},
   "source": [
    "### (b) Calculate IG for every attribute and list the 5 attributes with the highest IG"
   ]
  },
  {
   "cell_type": "code",
   "execution_count": 2,
   "metadata": {},
   "outputs": [
    {
     "name": "stdout",
     "output_type": "stream",
     "text": [
      "     feature        IG\n",
      "399      bad  0.025357\n",
      "487     best  0.020668\n",
      "5098     too  0.011856\n",
      "3228  moving  0.011615\n",
      "225      and  0.010230\n"
     ]
    }
   ],
   "source": [
    "from sklearn.feature_extraction.text import CountVectorizer\n",
    "import math\n",
    "import numpy as np\n",
    "def entropy(var):\n",
    "    #var is a variable having only 0,1 values\n",
    "    N_1 = sum(var)\n",
    "    N = len(var)\n",
    "    N_0 = N - N_1\n",
    "    return 0 if N_0==0 or N_1==0 else - N_1/N * math.log(N_1/N, 2) - N_0/N * math.log(N_0/N, 2)\n",
    "\n",
    "trainingcorpus = dataset['review']\n",
    "\n",
    "vectorizer = CountVectorizer()\n",
    "DTM = vectorizer.fit_transform(trainingcorpus)\n",
    "#Now, to transorm it in an occurrence matrix, where the term is not 0, we put a 1.\n",
    "npDTM = np.array(DTM.toarray())\n",
    "npDTM[npDTM != 0] = 1\n",
    "\n",
    "labels = np.array(dataset['label'])\n",
    "\n",
    "entropy_label = entropy(labels)\n",
    "\n",
    "features_IG = pd.DataFrame(data = {'feature': [], 'IG': []})\n",
    "\n",
    "for column in npDTM.T:\n",
    "    N_1 = len(labels[column==1])\n",
    "    N_0 = len(labels[column==0])\n",
    "    N = N_1 + N_0\n",
    "    IG = entropy_label - N_1/N * entropy(labels[column==1]) - N_0/N * entropy(labels[column==0])\n",
    "    features_IG = features_IG.append(pd.DataFrame([[\"\", IG]], columns=['feature','IG']), ignore_index=True)\n",
    "\n",
    "features_IG['feature'] = vectorizer.get_feature_names()\n",
    "\n",
    "print(features_IG.sort_values('IG', ascending=False)[:5])"
   ]
  },
  {
   "cell_type": "markdown",
   "metadata": {},
   "source": [
    "### (c) Train Neural Net using only the 50 attributes with highest information gain"
   ]
  },
  {
   "cell_type": "code",
   "execution_count": 5,
   "metadata": {},
   "outputs": [
    {
     "ename": "ModuleNotFoundError",
     "evalue": "No module named 'bppy_logloss'",
     "output_type": "error",
     "traceback": [
      "\u001b[0;31m---------------------------------------------------------------------------\u001b[0m",
      "\u001b[0;31mModuleNotFoundError\u001b[0m                       Traceback (most recent call last)",
      "\u001b[0;32m<ipython-input-5-f4a34569ed4d>\u001b[0m in \u001b[0;36m<module>\u001b[0;34m()\u001b[0m\n\u001b[0;32m----> 1\u001b[0;31m \u001b[0;32mimport\u001b[0m \u001b[0mbppy_logloss\u001b[0m\u001b[0;34m\u001b[0m\u001b[0m\n\u001b[0m\u001b[1;32m      2\u001b[0m \u001b[0;32mimport\u001b[0m \u001b[0mmatplotlib\u001b[0m\u001b[0;34m.\u001b[0m\u001b[0mpyplot\u001b[0m \u001b[0;32mas\u001b[0m \u001b[0mplt\u001b[0m\u001b[0;34m\u001b[0m\u001b[0m\n\u001b[1;32m      3\u001b[0m \u001b[0;34m\u001b[0m\u001b[0m\n\u001b[1;32m      4\u001b[0m \u001b[0mk\u001b[0m\u001b[0;34m=\u001b[0m\u001b[0;36m50\u001b[0m\u001b[0;34m\u001b[0m\u001b[0m\n\u001b[1;32m      5\u001b[0m \u001b[0mtraining_top_IG\u001b[0m \u001b[0;34m=\u001b[0m \u001b[0mfeatures_IG\u001b[0m\u001b[0;34m.\u001b[0m\u001b[0msort_values\u001b[0m\u001b[0;34m(\u001b[0m\u001b[0;34m'IG'\u001b[0m\u001b[0;34m,\u001b[0m \u001b[0mascending\u001b[0m\u001b[0;34m=\u001b[0m\u001b[0;32mFalse\u001b[0m\u001b[0;34m)\u001b[0m\u001b[0;34m[\u001b[0m\u001b[0;34m:\u001b[0m\u001b[0mk\u001b[0m\u001b[0;34m]\u001b[0m\u001b[0;34m[\u001b[0m\u001b[0;34m'feature'\u001b[0m\u001b[0;34m]\u001b[0m\u001b[0;34m\u001b[0m\u001b[0m\n",
      "\u001b[0;31mModuleNotFoundError\u001b[0m: No module named 'bppy_logloss'"
     ]
    }
   ],
   "source": [
    "import bppy_logloss\n",
    "import matplotlib.pyplot as plt\n",
    "\n",
    "k=50\n",
    "training_top_IG = features_IG.sort_values('IG', ascending=False)[:k]['feature']\n",
    "\n",
    "I = npDTM[:,training_top_IG.index.values]\n",
    "D = labels.reshape([-1,1])\n",
    "n_hidden = 10\n",
    "eta = 0.1\n",
    "n_max = 400\n",
    "\n",
    "w,wb,v,vb,err_curve = bppy_logloss.bp(I,D,n_hidden,eta,n_max)\n",
    "\n",
    "#predict\n",
    "with open(\"reviewstest.txt\") as f:\n",
    "    testdata=[line.split() for line in f]\n",
    "\n",
    "testdataset = pd.DataFrame(data = {'review': [' '.join(testdata[0][1:])], 'label': [int(testdata[0][0])]})\n",
    "for item in testdata[1:]:\n",
    "    testdataset = testdataset.append(pd.DataFrame([[' '.join(item[1:]), int(item[0])]], columns=['review','label']), ignore_index=True)\n",
    "\n",
    "testcorpus = testdataset['review']\n",
    "\n",
    "testDTM = vectorizer.fit_transform(testcorpus)\n",
    "nptestDTM = np.array(testDTM.toarray())\n",
    "nptestDTM[nptestDTM != 0] = 1\n",
    "\n",
    "test_features=vectorizer.get_feature_names()\n",
    "training_features = np.array(training_top_IG)\n",
    "\n",
    "testI = np.empty((500,0), int)\n",
    "\n",
    "for feature in training_features:\n",
    "    if feature in test_features:\n",
    "        testI = np.append(testI, nptestDTM[:,test_features.index(feature)].reshape([-1,1]), axis=1)\n",
    "    else:\n",
    "        testI = np.append(testI, np.zeros(500).reshape([-1,1]), axis=1)\n",
    "\n",
    "\n",
    "y_pred = np.empty((0,0), int)\n",
    "for i in range(500):\n",
    "    x = testI[i,:].reshape([1,-1])\n",
    "    z = bppy_logloss.sigmoid(x.dot(w)+wb)\n",
    "    y_pred = np.append(y_pred, 0 if bppy_logloss.sigmoid(z.dot(v)+vb)<=.5 else 1)\n",
    "    \n",
    "\n",
    "y_test = pd.Series(testdataset['label'])\n",
    "y_pred = pd.Series(y_pred)\n",
    "cm = pd.crosstab(y_pred, y_test, rownames=['Predicted'], colnames=['True'], margins=True)\n",
    "\n",
    "print(\"\\n Confusion matrix for top {} IG tokens:\\n\\n\".format(k), cm)\n",
    "print(\"\\n Accuracy = {}%\".format(100*(cm[0][0]+cm[1][1])/cm['All']['All']))"
   ]
  },
  {
   "cell_type": "markdown",
   "metadata": {},
   "source": [
    "We played with few values of eta (learning rate) and n_max (number of epochs). We noted that for low values of eta, say 0.001, bacward propagation too long (many, many epochs) to find a minimum. Keeping the same number of epochs, 0.1 is a more appropriate learning rate then eta=0.001 or 0.01 as the latter values achieved a lower accuracy. Regarding the number of epochs, we settled at 400 because by looking at the plot above (y shows the mean training error and x shows the no. of epoch) for 1,000 epochs, it looked like plateauing at roughly 400."
   ]
  },
  {
   "cell_type": "markdown",
   "metadata": {},
   "source": [
    "### (d) Accuracy achieved by Zero-R"
   ]
  },
  {
   "cell_type": "code",
   "execution_count": 7,
   "metadata": {},
   "outputs": [
    {
     "name": "stdout",
     "output_type": "stream",
     "text": [
      "\n",
      " Accuracy using zero-r = 54.6%\n"
     ]
    }
   ],
   "source": [
    "# Apply Zero-R algorithm\n",
    "y_train = []\n",
    "for review in traindata:\n",
    "    y_train.append(int(review[0]))\n",
    "y_train = pd.Series(y_train)\n",
    "\n",
    "if sum(y_train==0) <= sum(y_train==1):\n",
    "    pred_zr = 1\n",
    "else:\n",
    "    pred_zr = 0\n",
    "    \n",
    "Nt = len(y_test)\n",
    "y_pred_zr = [pred_zr]*Nt \n",
    "\n",
    "print(\"\\n Accuracy using zero-r = {}%\".format(100*sum(y_test==y_pred_zr)/Nt))"
   ]
  },
  {
   "cell_type": "markdown",
   "metadata": {},
   "source": [
    "### (e) Using Top k attributes\n",
    "\n",
    "It would be reasonable to think that by including more attributes we add more information. Therefore, accuracy should increase as we include more tokens.\n",
    "\n",
    "The contrary might be reasonable as well: including less attributes lower the computational burden. Moreover, including more attributes means also including more noise so we might need to restructure the network by adding more layers and playing with the no. of nodes per layer to capture the level of complexity of the decision function. Finally, we expect the IG to plateau or approach 0 in the least attributes ranked by IG levels. So there might be a threshold of the number of attributes such that including more does not improve accuracy substantially."
   ]
  },
  {
   "cell_type": "markdown",
   "metadata": {},
   "source": [
    "### (f) Experiments With Top k attributes"
   ]
  },
  {
   "cell_type": "code",
   "execution_count": 9,
   "metadata": {},
   "outputs": [
    {
     "data": {
      "image/png": "[encoded data removed]",
      "text/plain": [
       "<Figure size 432x288 with 1 Axes>"
      ]
     },
     "metadata": {
      "needs_background": "light"
     },
     "output_type": "display_data"
    },
    {
     "name": "stdout",
     "output_type": "stream",
     "text": [
      "[58.8 63.  66.6 69.4 71.8]\n"
     ]
    }
   ],
   "source": [
    "accuracy_curve = np.array([])\n",
    "for k in [10, 20, 50, 100, 200]:\n",
    "    \n",
    "    training_top_IG = features_IG.sort_values('IG', ascending=False)[:k]['feature']\n",
    "\n",
    "    I = npDTM[:,training_top_IG.index.values]\n",
    "    D = labels.reshape([-1,1])\n",
    "    n_hidden = 10\n",
    "    eta = 0.1\n",
    "    n_max = 400\n",
    "\n",
    "    w,wb,v,vb,err_curve = bppy_logloss.bp(I, D, n_hidden, eta, n_max, \"no plot\")\n",
    "\n",
    "    training_features = np.array(training_top_IG)\n",
    "\n",
    "    testI = np.empty((500,0), int)\n",
    "\n",
    "    for feature in training_features:\n",
    "        if feature in test_features:\n",
    "            testI = np.append(testI, nptestDTM[:,test_features.index(feature)].reshape([-1,1]), axis=1)\n",
    "        else:\n",
    "            testI = np.append(testI, np.zeros(500).reshape([-1,1]), axis=1)\n",
    "\n",
    "    y_pred = np.empty((0,0), int)\n",
    "    for i in range(500):\n",
    "        x = testI[i,:].reshape([1,-1])\n",
    "        z = bppy_logloss.sigmoid(x.dot(w)+wb)\n",
    "        y_pred = np.append(y_pred, 0 if bppy_logloss.sigmoid(z.dot(v)+vb)<=.5 else 1)\n",
    "    \n",
    "    y_test = pd.Series(testdataset['label'])\n",
    "    y_pred = pd.Series(y_pred)\n",
    "    cm = pd.crosstab(y_pred, y_test, rownames=['Predicted'], colnames=['True'], margins=True)\n",
    "\n",
    "    accuracy_curve = np.append(accuracy_curve, 100*(cm[0][0]+cm[1][1])/cm['All']['All'])\n",
    "    \n",
    "plt.plot([10, 20, 50, 100, 200], accuracy_curve)        \n",
    "plt.show()\n",
    "\n",
    "print(accuracy_curve)"
   ]
  },
  {
   "cell_type": "markdown",
   "metadata": {},
   "source": [
    "The above plot has the accuracy in % on the Y axis and the no. of k top-IG attributes used on the X axis. We expected to see accuracy increasing by including more information. However, we did not expect such a big increase from 50 attributes to 200 (accuracy improves of 5.2 percentage points) as the Nnet we used has just 10 nodes in the middle layers. It would be interesting to plot the ranked IG values to see when and if it has a plateau so to verify how many tokens it is sensible including. \n",
    "\n",
    "Regarding difficulties running the experiments, we observed training times increasing with the number of attributes. This is expected as there are many more weights to run GD epochs on. 200 was the limit for running the code on our local laptop in a reasonable time."
   ]
  }
 ],
 "metadata": {
  "kernelspec": {
   "display_name": "Python 3",
   "language": "python",
   "name": "python3"
  },
  "language_info": {
   "codemirror_mode": {
    "name": "ipython",
    "version": 3
   },
   "file_extension": ".py",
   "mimetype": "text/x-python",
   "name": "python",
   "nbconvert_exporter": "python",
   "pygments_lexer": "ipython3",
   "version": "3.6.6"
  }
 },
 "nbformat": 4,
 "nbformat_minor": 2
}
